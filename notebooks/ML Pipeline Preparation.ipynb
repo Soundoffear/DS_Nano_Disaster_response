{
 "cells": [
  {
   "cell_type": "markdown",
   "metadata": {},
   "source": [
    "# ML Pipeline Preparation\n",
    "Follow the instructions below to help you create your ML pipeline.\n",
    "### 1. Import libraries and load data from database.\n",
    "- Import Python libraries\n",
    "- Load dataset from database with [`read_sql_table`](https://pandas.pydata.org/pandas-docs/stable/generated/pandas.read_sql_table.html)\n",
    "- Define feature and target variables X and Y"
   ]
  },
  {
   "cell_type": "code",
   "execution_count": 1,
   "metadata": {},
   "outputs": [
    {
     "name": "stdout",
     "output_type": "stream",
     "text": [
      "[nltk_data] Downloading package punkt to /root/nltk_data...\n",
      "[nltk_data]   Unzipping tokenizers/punkt.zip.\n",
      "[nltk_data] Downloading package wordnet to /root/nltk_data...\n",
      "[nltk_data]   Unzipping corpora/wordnet.zip.\n",
      "[nltk_data] Downloading package stopwords to /root/nltk_data...\n",
      "[nltk_data]   Unzipping corpora/stopwords.zip.\n"
     ]
    }
   ],
   "source": [
    "# import libraries\n",
    "import pandas as pd\n",
    "import numpy as np\n",
    "import matplotlib.pyplot as plt\n",
    "import re\n",
    "\n",
    "from sklearn.pipeline import Pipeline, FeatureUnion\n",
    "from sklearn.model_selection import train_test_split, GridSearchCV\n",
    "from sklearn.feature_extraction.text import CountVectorizer, TfidfTransformer\n",
    "from sklearn.ensemble import RandomForestClassifier\n",
    "from sklearn.multioutput import MultiOutputClassifier\n",
    "from sklearn.metrics import f1_score, classification_report\n",
    "\n",
    "import nltk\n",
    "nltk.download(['punkt', 'wordnet', 'stopwords'])\n",
    "from nltk.tokenize import word_tokenize\n",
    "from nltk.stem import WordNetLemmatizer\n",
    "from nltk.corpus import stopwords\n",
    "\n",
    "from sqlalchemy import create_engine\n"
   ]
  },
  {
   "cell_type": "code",
   "execution_count": 2,
   "metadata": {},
   "outputs": [
    {
     "data": {
      "text/html": [
       "<div>\n",
       "<style scoped>\n",
       "    .dataframe tbody tr th:only-of-type {\n",
       "        vertical-align: middle;\n",
       "    }\n",
       "\n",
       "    .dataframe tbody tr th {\n",
       "        vertical-align: top;\n",
       "    }\n",
       "\n",
       "    .dataframe thead th {\n",
       "        text-align: right;\n",
       "    }\n",
       "</style>\n",
       "<table border=\"1\" class=\"dataframe\">\n",
       "  <thead>\n",
       "    <tr style=\"text-align: right;\">\n",
       "      <th></th>\n",
       "      <th>related</th>\n",
       "      <th>request</th>\n",
       "      <th>offer</th>\n",
       "      <th>aid_related</th>\n",
       "      <th>medical_help</th>\n",
       "      <th>medical_products</th>\n",
       "      <th>search_and_rescue</th>\n",
       "      <th>security</th>\n",
       "      <th>military</th>\n",
       "      <th>child_alone</th>\n",
       "      <th>...</th>\n",
       "      <th>aid_centers</th>\n",
       "      <th>other_infrastructure</th>\n",
       "      <th>weather_related</th>\n",
       "      <th>floods</th>\n",
       "      <th>storm</th>\n",
       "      <th>fire</th>\n",
       "      <th>earthquake</th>\n",
       "      <th>cold</th>\n",
       "      <th>other_weather</th>\n",
       "      <th>direct_report</th>\n",
       "    </tr>\n",
       "  </thead>\n",
       "  <tbody>\n",
       "    <tr>\n",
       "      <th>0</th>\n",
       "      <td>1</td>\n",
       "      <td>0</td>\n",
       "      <td>0</td>\n",
       "      <td>0</td>\n",
       "      <td>0</td>\n",
       "      <td>0</td>\n",
       "      <td>0</td>\n",
       "      <td>0</td>\n",
       "      <td>0</td>\n",
       "      <td>0</td>\n",
       "      <td>...</td>\n",
       "      <td>0</td>\n",
       "      <td>0</td>\n",
       "      <td>0</td>\n",
       "      <td>0</td>\n",
       "      <td>0</td>\n",
       "      <td>0</td>\n",
       "      <td>0</td>\n",
       "      <td>0</td>\n",
       "      <td>0</td>\n",
       "      <td>0</td>\n",
       "    </tr>\n",
       "    <tr>\n",
       "      <th>1</th>\n",
       "      <td>1</td>\n",
       "      <td>0</td>\n",
       "      <td>0</td>\n",
       "      <td>1</td>\n",
       "      <td>0</td>\n",
       "      <td>0</td>\n",
       "      <td>0</td>\n",
       "      <td>0</td>\n",
       "      <td>0</td>\n",
       "      <td>0</td>\n",
       "      <td>...</td>\n",
       "      <td>0</td>\n",
       "      <td>0</td>\n",
       "      <td>1</td>\n",
       "      <td>0</td>\n",
       "      <td>1</td>\n",
       "      <td>0</td>\n",
       "      <td>0</td>\n",
       "      <td>0</td>\n",
       "      <td>0</td>\n",
       "      <td>0</td>\n",
       "    </tr>\n",
       "    <tr>\n",
       "      <th>2</th>\n",
       "      <td>1</td>\n",
       "      <td>0</td>\n",
       "      <td>0</td>\n",
       "      <td>0</td>\n",
       "      <td>0</td>\n",
       "      <td>0</td>\n",
       "      <td>0</td>\n",
       "      <td>0</td>\n",
       "      <td>0</td>\n",
       "      <td>0</td>\n",
       "      <td>...</td>\n",
       "      <td>0</td>\n",
       "      <td>0</td>\n",
       "      <td>0</td>\n",
       "      <td>0</td>\n",
       "      <td>0</td>\n",
       "      <td>0</td>\n",
       "      <td>0</td>\n",
       "      <td>0</td>\n",
       "      <td>0</td>\n",
       "      <td>0</td>\n",
       "    </tr>\n",
       "    <tr>\n",
       "      <th>3</th>\n",
       "      <td>1</td>\n",
       "      <td>1</td>\n",
       "      <td>0</td>\n",
       "      <td>1</td>\n",
       "      <td>0</td>\n",
       "      <td>1</td>\n",
       "      <td>0</td>\n",
       "      <td>0</td>\n",
       "      <td>0</td>\n",
       "      <td>0</td>\n",
       "      <td>...</td>\n",
       "      <td>0</td>\n",
       "      <td>0</td>\n",
       "      <td>0</td>\n",
       "      <td>0</td>\n",
       "      <td>0</td>\n",
       "      <td>0</td>\n",
       "      <td>0</td>\n",
       "      <td>0</td>\n",
       "      <td>0</td>\n",
       "      <td>0</td>\n",
       "    </tr>\n",
       "    <tr>\n",
       "      <th>4</th>\n",
       "      <td>1</td>\n",
       "      <td>0</td>\n",
       "      <td>0</td>\n",
       "      <td>0</td>\n",
       "      <td>0</td>\n",
       "      <td>0</td>\n",
       "      <td>0</td>\n",
       "      <td>0</td>\n",
       "      <td>0</td>\n",
       "      <td>0</td>\n",
       "      <td>...</td>\n",
       "      <td>0</td>\n",
       "      <td>0</td>\n",
       "      <td>0</td>\n",
       "      <td>0</td>\n",
       "      <td>0</td>\n",
       "      <td>0</td>\n",
       "      <td>0</td>\n",
       "      <td>0</td>\n",
       "      <td>0</td>\n",
       "      <td>0</td>\n",
       "    </tr>\n",
       "  </tbody>\n",
       "</table>\n",
       "<p>5 rows × 36 columns</p>\n",
       "</div>"
      ],
      "text/plain": [
       "   related  request  offer  aid_related  medical_help  medical_products  \\\n",
       "0        1        0      0            0             0                 0   \n",
       "1        1        0      0            1             0                 0   \n",
       "2        1        0      0            0             0                 0   \n",
       "3        1        1      0            1             0                 1   \n",
       "4        1        0      0            0             0                 0   \n",
       "\n",
       "   search_and_rescue  security  military  child_alone      ...        \\\n",
       "0                  0         0         0            0      ...         \n",
       "1                  0         0         0            0      ...         \n",
       "2                  0         0         0            0      ...         \n",
       "3                  0         0         0            0      ...         \n",
       "4                  0         0         0            0      ...         \n",
       "\n",
       "   aid_centers  other_infrastructure  weather_related  floods  storm  fire  \\\n",
       "0            0                     0                0       0      0     0   \n",
       "1            0                     0                1       0      1     0   \n",
       "2            0                     0                0       0      0     0   \n",
       "3            0                     0                0       0      0     0   \n",
       "4            0                     0                0       0      0     0   \n",
       "\n",
       "   earthquake  cold  other_weather  direct_report  \n",
       "0           0     0              0              0  \n",
       "1           0     0              0              0  \n",
       "2           0     0              0              0  \n",
       "3           0     0              0              0  \n",
       "4           0     0              0              0  \n",
       "\n",
       "[5 rows x 36 columns]"
      ]
     },
     "execution_count": 2,
     "metadata": {},
     "output_type": "execute_result"
    }
   ],
   "source": [
    "# load data from database\n",
    "engine = create_engine('sqlite:///InsertDatabaseName.db')\n",
    "df = pd.read_sql_table(\"InsertTableName\", engine)\n",
    "X = df.message\n",
    "Y = df.iloc[:,4:]\n",
    "Y.head()"
   ]
  },
  {
   "cell_type": "code",
   "execution_count": 3,
   "metadata": {},
   "outputs": [
    {
     "data": {
      "text/plain": [
       "0    Weather update - a cold front from Cuba that c...\n",
       "1              Is the Hurricane over or is it not over\n",
       "2                      Looking for someone but no name\n",
       "3    UN reports Leogane 80-90 destroyed. Only Hospi...\n",
       "4    says: west side of Haiti, rest of the country ...\n",
       "Name: message, dtype: object"
      ]
     },
     "execution_count": 3,
     "metadata": {},
     "output_type": "execute_result"
    }
   ],
   "source": [
    "X.head()"
   ]
  },
  {
   "cell_type": "markdown",
   "metadata": {},
   "source": [
    "### 2. Write a tokenization function to process your text data"
   ]
  },
  {
   "cell_type": "code",
   "execution_count": 4,
   "metadata": {},
   "outputs": [],
   "source": [
    "def tokenize(text):\n",
    "    #print(\"Text:\", text)\n",
    "    tokens = word_tokenize(text)\n",
    "    lemm = WordNetLemmatizer()\n",
    "    #print(tokens)\n",
    "    clean_tokens = []\n",
    "    for tok in tokens:\n",
    "        clean_tok = lemm.lemmatize(tok).lower().strip()\n",
    "        clean_tokens.append(clean_tok[0])\n",
    "    #print(clean_tokens)\n",
    "    return clean_tokens"
   ]
  },
  {
   "cell_type": "markdown",
   "metadata": {},
   "source": [
    "### 3. Build a machine learning pipeline\n",
    "This machine pipeline should take in the `message` column as input and output classification results on the other 36 categories in the dataset. You may find the [MultiOutputClassifier](http://scikit-learn.org/stable/modules/generated/sklearn.multioutput.MultiOutputClassifier.html) helpful for predicting multiple target variables."
   ]
  },
  {
   "cell_type": "code",
   "execution_count": 5,
   "metadata": {},
   "outputs": [],
   "source": [
    "pipeline = Pipeline([\n",
    "        ('vect', CountVectorizer(tokenizer=tokenize)),\n",
    "        ('tfidf', TfidfTransformer()),\n",
    "        ('clf', MultiOutputClassifier(RandomForestClassifier())),\n",
    "    ])\n"
   ]
  },
  {
   "cell_type": "markdown",
   "metadata": {},
   "source": [
    "### 4. Train pipeline\n",
    "- Split data into train and test sets\n",
    "- Train pipeline"
   ]
  },
  {
   "cell_type": "code",
   "execution_count": 6,
   "metadata": {},
   "outputs": [
    {
     "name": "stdout",
     "output_type": "stream",
     "text": [
      "Accuracy:  related                   0.749313\n",
      "request                   0.839335\n",
      "offer                     0.994812\n",
      "aid_related               0.624046\n",
      "medical_help              0.917150\n",
      "medical_products          0.945377\n",
      "search_and_rescue         0.972536\n",
      "security                  0.980928\n",
      "military                  0.968111\n",
      "child_alone               1.000000\n",
      "water                     0.938511\n",
      "food                      0.887702\n",
      "shelter                   0.905096\n",
      "clothing                  0.984590\n",
      "money                     0.978639\n",
      "missing_people            0.987794\n",
      "refugees                  0.965670\n",
      "death                     0.953006\n",
      "other_aid                 0.860543\n",
      "infrastructure_related    0.931950\n",
      "transport                 0.954532\n",
      "buildings                 0.949039\n",
      "electricity               0.981385\n",
      "tools                     0.994355\n",
      "hospitals                 0.987183\n",
      "shops                     0.994965\n",
      "aid_centers               0.986878\n",
      "other_infrastructure      0.956820\n",
      "weather_related           0.734818\n",
      "floods                    0.915777\n",
      "storm                     0.909216\n",
      "fire                      0.987489\n",
      "earthquake                0.918828\n",
      "cold                      0.977876\n",
      "other_weather             0.942325\n",
      "direct_report             0.816906\n",
      "dtype: float64\n"
     ]
    }
   ],
   "source": [
    "X_train, X_test, y_train, y_test = train_test_split(X, Y)\n",
    "pipeline.fit(X_train, y_train)\n",
    "y_pred = pipeline.predict(X_test)\n",
    "\n",
    "accuracy = (y_pred == y_test).mean()\n",
    "print(\"Accuracy: \", accuracy)"
   ]
  },
  {
   "cell_type": "code",
   "execution_count": 7,
   "metadata": {},
   "outputs": [
    {
     "data": {
      "text/plain": [
       "array([[1, 0, 0, ..., 0, 0, 0],\n",
       "       [1, 0, 0, ..., 0, 0, 0],\n",
       "       [0, 0, 0, ..., 0, 0, 0],\n",
       "       ..., \n",
       "       [0, 0, 0, ..., 0, 0, 0],\n",
       "       [1, 0, 0, ..., 0, 1, 0],\n",
       "       [1, 0, 0, ..., 0, 0, 0]])"
      ]
     },
     "execution_count": 7,
     "metadata": {},
     "output_type": "execute_result"
    }
   ],
   "source": [
    "y_test.values"
   ]
  },
  {
   "cell_type": "code",
   "execution_count": 8,
   "metadata": {},
   "outputs": [
    {
     "data": {
      "text/plain": [
       "array([[1, 0, 0, ..., 0, 0, 0],\n",
       "       [1, 0, 0, ..., 0, 0, 0],\n",
       "       [1, 0, 0, ..., 0, 0, 0],\n",
       "       ..., \n",
       "       [1, 0, 0, ..., 0, 0, 0],\n",
       "       [1, 0, 0, ..., 0, 0, 0],\n",
       "       [1, 0, 0, ..., 0, 0, 0]])"
      ]
     },
     "execution_count": 8,
     "metadata": {},
     "output_type": "execute_result"
    }
   ],
   "source": [
    "y_pred"
   ]
  },
  {
   "cell_type": "code",
   "execution_count": 9,
   "metadata": {},
   "outputs": [
    {
     "data": {
      "text/plain": [
       "((6554, 36), (6554, 36))"
      ]
     },
     "execution_count": 9,
     "metadata": {},
     "output_type": "execute_result"
    }
   ],
   "source": [
    "y_test.values.shape, y_pred.shape"
   ]
  },
  {
   "cell_type": "markdown",
   "metadata": {},
   "source": [
    "### 5. Test your model\n",
    "Report the f1 score, precision and recall for each output category of the dataset. You can do this by iterating through the columns and calling sklearn's `classification_report` on each."
   ]
  },
  {
   "cell_type": "code",
   "execution_count": 10,
   "metadata": {},
   "outputs": [
    {
     "name": "stdout",
     "output_type": "stream",
     "text": [
      "related: 0.900732600733\n",
      "request: 0.908955223881\n",
      "offer: 0.971428571429\n",
      "aid_related: 1.0\n",
      "medical_help: 1.0\n",
      "medical_products: 0.976650563607\n",
      "search_and_rescue: 1.0\n",
      "security: 0.985915492958\n",
      "military: 1.0\n",
      "child_alone: 0.985915492958\n",
      "water: 0.985915492958\n",
      "food: 0.855218855219\n",
      "shelter: 0.93137254902\n",
      "clothing: 0.778645833333\n",
      "money: 1.0\n",
      "missing_people: 0.872053872054\n",
      "refugees: 0.900732600733\n",
      "death: 0.957516339869\n",
      "other_aid: 1.0\n",
      "infrastructure_related: 0.855218855219\n",
      "transport: 0.936026936027\n",
      "buildings: 1.0\n",
      "electricity: 0.791397849462\n",
      "tools: 0.985915492958\n",
      "hospitals: 0.740740740741\n",
      "shops: 0.834554334554\n",
      "aid_centers: 0.971428571429\n",
      "other_infrastructure: 0.855218855219\n",
      "weather_related: 0.93137254902\n",
      "floods: 0.864583333333\n",
      "storm: 1.0\n",
      "fire: 0.912698412698\n",
      "earthquake: 0.971428571429\n",
      "cold: 0.893532338308\n",
      "other_weather: 0.740740740741\n",
      "direct_report: 0.718518518519\n",
      "0.917067488567\n"
     ]
    },
    {
     "name": "stderr",
     "output_type": "stream",
     "text": [
      "/opt/conda/lib/python3.6/site-packages/sklearn/metrics/classification.py:1137: UndefinedMetricWarning: F-score is ill-defined and being set to 0.0 in labels with no true samples.\n",
      "  'recall', 'true', average, warn_for)\n"
     ]
    }
   ],
   "source": [
    "y_test_v = y_test.values\n",
    "y_pred_v = y_pred\n",
    "score_list = []\n",
    "for i, col_index in enumerate(y_test.columns.values):\n",
    "    score = f1_score(y_test_v[i], y_pred_v[i], average='weighted')\n",
    "    score_list.append(score)\n",
    "    print(str(col_index) + \": \" + str(score))\n",
    "    \n",
    "print(np.asarray(score_list).mean())"
   ]
  },
  {
   "cell_type": "code",
   "execution_count": 11,
   "metadata": {},
   "outputs": [
    {
     "name": "stdout",
     "output_type": "stream",
     "text": [
      "related              precision    recall  f1-score   support\n",
      "\n",
      "          r       0.91      1.00      0.95        31\n",
      "          e       1.00      0.40      0.57         5\n",
      "\n",
      "avg / total       0.92      0.92      0.90        36\n",
      "\n",
      "request              precision    recall  f1-score   support\n",
      "\n",
      "          r       0.94      0.97      0.96        33\n",
      "          e       0.50      0.33      0.40         3\n",
      "\n",
      "avg / total       0.90      0.92      0.91        36\n",
      "\n",
      "offer              precision    recall  f1-score   support\n",
      "\n",
      "          o       1.00      0.94      0.97        36\n",
      "          f       0.00      0.00      0.00         0\n",
      "\n",
      "avg / total       1.00      0.94      0.97        36\n",
      "\n",
      "aid_related              precision    recall  f1-score   support\n",
      "\n",
      "          a       1.00      1.00      1.00        36\n",
      "\n",
      "avg / total       1.00      1.00      1.00        36\n",
      "\n",
      "medical_help              precision    recall  f1-score   support\n",
      "\n",
      "          m       1.00      1.00      1.00        36\n",
      "\n",
      "avg / total       1.00      1.00      1.00        36\n",
      "\n",
      "medical_products              precision    recall  f1-score   support\n",
      "\n",
      "          m       1.00      0.97      0.99        35\n",
      "          e       0.50      1.00      0.67         1\n",
      "\n",
      "avg / total       0.99      0.97      0.98        36\n",
      "\n",
      "search_and_rescue              precision    recall  f1-score   support\n",
      "\n",
      "          s       1.00      1.00      1.00        36\n",
      "\n",
      "avg / total       1.00      1.00      1.00        36\n",
      "\n",
      "security              precision    recall  f1-score   support\n",
      "\n",
      "          s       1.00      0.97      0.99        36\n",
      "          e       0.00      0.00      0.00         0\n",
      "\n",
      "avg / total       1.00      0.97      0.99        36\n",
      "\n",
      "military              precision    recall  f1-score   support\n",
      "\n",
      "          m       1.00      1.00      1.00        35\n",
      "          i       1.00      1.00      1.00         1\n",
      "\n",
      "avg / total       1.00      1.00      1.00        36\n",
      "\n",
      "child_alone              precision    recall  f1-score   support\n",
      "\n",
      "          c       1.00      0.97      0.99        36\n",
      "          h       0.00      0.00      0.00         0\n",
      "\n",
      "avg / total       1.00      0.97      0.99        36\n",
      "\n",
      "water              precision    recall  f1-score   support\n",
      "\n",
      "          w       1.00      0.97      0.99        36\n",
      "          a       0.00      0.00      0.00         0\n",
      "\n",
      "avg / total       1.00      0.97      0.99        36\n",
      "\n",
      "food              precision    recall  f1-score   support\n",
      "\n",
      "          f       0.89      1.00      0.94        31\n",
      "          o       1.00      0.20      0.33         5\n",
      "\n",
      "avg / total       0.90      0.89      0.86        36\n",
      "\n",
      "shelter              precision    recall  f1-score   support\n",
      "\n",
      "          s       0.94      1.00      0.97        33\n",
      "          h       1.00      0.33      0.50         3\n",
      "\n",
      "avg / total       0.95      0.94      0.93        36\n",
      "\n",
      "clothing              precision    recall  f1-score   support\n",
      "\n",
      "          c       0.83      1.00      0.91        29\n",
      "          l       1.00      0.14      0.25         7\n",
      "\n",
      "avg / total       0.86      0.83      0.78        36\n",
      "\n",
      "money              precision    recall  f1-score   support\n",
      "\n",
      "          m       1.00      1.00      1.00        35\n",
      "          o       1.00      1.00      1.00         1\n",
      "\n",
      "avg / total       1.00      1.00      1.00        36\n",
      "\n",
      "missing_people              precision    recall  f1-score   support\n",
      "\n",
      "          m       0.91      0.97      0.94        32\n",
      "          i       0.50      0.25      0.33         4\n",
      "\n",
      "avg / total       0.87      0.89      0.87        36\n",
      "\n",
      "refugees              precision    recall  f1-score   support\n",
      "\n",
      "          r       0.91      1.00      0.95        31\n",
      "          e       1.00      0.40      0.57         5\n",
      "\n",
      "avg / total       0.92      0.92      0.90        36\n",
      "\n",
      "death              precision    recall  f1-score   support\n",
      "\n",
      "          d       1.00      0.94      0.97        35\n",
      "          e       0.33      1.00      0.50         1\n",
      "\n",
      "avg / total       0.98      0.94      0.96        36\n",
      "\n",
      "other_aid              precision    recall  f1-score   support\n",
      "\n",
      "          o       1.00      1.00      1.00        36\n",
      "\n",
      "avg / total       1.00      1.00      1.00        36\n",
      "\n",
      "infrastructure_related              precision    recall  f1-score   support\n",
      "\n",
      "          i       0.89      1.00      0.94        31\n",
      "          n       1.00      0.20      0.33         5\n",
      "\n",
      "avg / total       0.90      0.89      0.86        36\n",
      "\n",
      "transport              precision    recall  f1-score   support\n",
      "\n",
      "          t       0.94      1.00      0.97        32\n",
      "          r       1.00      0.50      0.67         4\n",
      "\n",
      "avg / total       0.95      0.94      0.94        36\n",
      "\n",
      "buildings              precision    recall  f1-score   support\n",
      "\n",
      "          b       1.00      1.00      1.00        35\n",
      "          u       1.00      1.00      1.00         1\n",
      "\n",
      "avg / total       1.00      1.00      1.00        36\n",
      "\n",
      "electricity              precision    recall  f1-score   support\n",
      "\n",
      "          e       0.82      1.00      0.90        28\n",
      "          l       1.00      0.25      0.40         8\n",
      "\n",
      "avg / total       0.86      0.83      0.79        36\n",
      "\n",
      "tools              precision    recall  f1-score   support\n",
      "\n",
      "          t       1.00      0.97      0.99        36\n",
      "          o       0.00      0.00      0.00         0\n",
      "\n",
      "avg / total       1.00      0.97      0.99        36\n",
      "\n",
      "hospitals              precision    recall  f1-score   support\n",
      "\n",
      "          h       0.80      1.00      0.89        28\n",
      "          o       1.00      0.12      0.22         8\n",
      "\n",
      "avg / total       0.84      0.81      0.74        36\n",
      "\n",
      "shops              precision    recall  f1-score   support\n",
      "\n",
      "          s       0.88      0.97      0.92        31\n",
      "          h       0.50      0.20      0.29         5\n",
      "\n",
      "avg / total       0.83      0.86      0.83        36\n",
      "\n",
      "aid_centers              precision    recall  f1-score   support\n",
      "\n",
      "          a       1.00      0.94      0.97        36\n",
      "          i       0.00      0.00      0.00         0\n",
      "\n",
      "avg / total       1.00      0.94      0.97        36\n",
      "\n",
      "other_infrastructure              precision    recall  f1-score   support\n",
      "\n",
      "          o       0.89      1.00      0.94        31\n",
      "          t       1.00      0.20      0.33         5\n",
      "\n",
      "avg / total       0.90      0.89      0.86        36\n",
      "\n",
      "weather_related              precision    recall  f1-score   support\n",
      "\n",
      "          w       0.94      1.00      0.97        33\n",
      "          e       1.00      0.33      0.50         3\n",
      "\n",
      "avg / total       0.95      0.94      0.93        36\n",
      "\n",
      "floods              precision    recall  f1-score   support\n",
      "\n",
      "          f       0.88      1.00      0.94        30\n",
      "          l       1.00      0.33      0.50         6\n",
      "\n",
      "avg / total       0.90      0.89      0.86        36\n",
      "\n",
      "storm              precision    recall  f1-score   support\n",
      "\n",
      "          s       1.00      1.00      1.00        35\n",
      "          t       1.00      1.00      1.00         1\n",
      "\n",
      "avg / total       1.00      1.00      1.00        36\n",
      "\n",
      "fire              precision    recall  f1-score   support\n",
      "\n",
      "          f       0.94      0.97      0.95        31\n",
      "          i       0.75      0.60      0.67         5\n",
      "\n",
      "avg / total       0.91      0.92      0.91        36\n",
      "\n",
      "earthquake              precision    recall  f1-score   support\n",
      "\n",
      "          e       1.00      0.94      0.97        36\n",
      "          a       0.00      0.00      0.00         0\n",
      "\n",
      "avg / total       1.00      0.94      0.97        36\n",
      "\n",
      "cold              precision    recall  f1-score   support\n",
      "\n",
      "          c       0.91      1.00      0.96        32\n",
      "          o       1.00      0.25      0.40         4\n",
      "\n",
      "avg / total       0.92      0.92      0.89        36\n",
      "\n",
      "other_weather              precision    recall  f1-score   support\n",
      "\n",
      "          o       0.80      1.00      0.89        28\n",
      "          t       1.00      0.12      0.22         8\n",
      "\n",
      "avg / total       0.84      0.81      0.74        36\n",
      "\n",
      "direct_report              precision    recall  f1-score   support\n",
      "\n",
      "          d       0.76      1.00      0.87        26\n",
      "          i       1.00      0.20      0.33        10\n",
      "\n",
      "avg / total       0.83      0.78      0.72        36\n",
      "\n"
     ]
    },
    {
     "name": "stderr",
     "output_type": "stream",
     "text": [
      "/opt/conda/lib/python3.6/site-packages/sklearn/metrics/classification.py:1428: UserWarning: labels size, 2, does not match size of target_names, 7\n",
      "  .format(len(labels), len(target_names))\n",
      "/opt/conda/lib/python3.6/site-packages/sklearn/metrics/classification.py:1428: UserWarning: labels size, 2, does not match size of target_names, 5\n",
      "  .format(len(labels), len(target_names))\n",
      "/opt/conda/lib/python3.6/site-packages/sklearn/metrics/classification.py:1137: UndefinedMetricWarning: Recall and F-score are ill-defined and being set to 0.0 in labels with no true samples.\n",
      "  'recall', 'true', average, warn_for)\n",
      "/opt/conda/lib/python3.6/site-packages/sklearn/metrics/classification.py:1428: UserWarning: labels size, 1, does not match size of target_names, 11\n",
      "  .format(len(labels), len(target_names))\n",
      "/opt/conda/lib/python3.6/site-packages/sklearn/metrics/classification.py:1428: UserWarning: labels size, 1, does not match size of target_names, 12\n",
      "  .format(len(labels), len(target_names))\n",
      "/opt/conda/lib/python3.6/site-packages/sklearn/metrics/classification.py:1428: UserWarning: labels size, 2, does not match size of target_names, 16\n",
      "  .format(len(labels), len(target_names))\n",
      "/opt/conda/lib/python3.6/site-packages/sklearn/metrics/classification.py:1428: UserWarning: labels size, 1, does not match size of target_names, 17\n",
      "  .format(len(labels), len(target_names))\n",
      "/opt/conda/lib/python3.6/site-packages/sklearn/metrics/classification.py:1428: UserWarning: labels size, 2, does not match size of target_names, 8\n",
      "  .format(len(labels), len(target_names))\n",
      "/opt/conda/lib/python3.6/site-packages/sklearn/metrics/classification.py:1428: UserWarning: labels size, 2, does not match size of target_names, 11\n",
      "  .format(len(labels), len(target_names))\n",
      "/opt/conda/lib/python3.6/site-packages/sklearn/metrics/classification.py:1428: UserWarning: labels size, 2, does not match size of target_names, 4\n",
      "  .format(len(labels), len(target_names))\n",
      "/opt/conda/lib/python3.6/site-packages/sklearn/metrics/classification.py:1428: UserWarning: labels size, 2, does not match size of target_names, 14\n",
      "  .format(len(labels), len(target_names))\n",
      "/opt/conda/lib/python3.6/site-packages/sklearn/metrics/classification.py:1428: UserWarning: labels size, 1, does not match size of target_names, 9\n",
      "  .format(len(labels), len(target_names))\n",
      "/opt/conda/lib/python3.6/site-packages/sklearn/metrics/classification.py:1428: UserWarning: labels size, 2, does not match size of target_names, 22\n",
      "  .format(len(labels), len(target_names))\n",
      "/opt/conda/lib/python3.6/site-packages/sklearn/metrics/classification.py:1428: UserWarning: labels size, 2, does not match size of target_names, 9\n",
      "  .format(len(labels), len(target_names))\n",
      "/opt/conda/lib/python3.6/site-packages/sklearn/metrics/classification.py:1428: UserWarning: labels size, 2, does not match size of target_names, 20\n",
      "  .format(len(labels), len(target_names))\n",
      "/opt/conda/lib/python3.6/site-packages/sklearn/metrics/classification.py:1428: UserWarning: labels size, 2, does not match size of target_names, 15\n",
      "  .format(len(labels), len(target_names))\n",
      "/opt/conda/lib/python3.6/site-packages/sklearn/metrics/classification.py:1428: UserWarning: labels size, 2, does not match size of target_names, 6\n",
      "  .format(len(labels), len(target_names))\n",
      "/opt/conda/lib/python3.6/site-packages/sklearn/metrics/classification.py:1428: UserWarning: labels size, 2, does not match size of target_names, 10\n",
      "  .format(len(labels), len(target_names))\n",
      "/opt/conda/lib/python3.6/site-packages/sklearn/metrics/classification.py:1428: UserWarning: labels size, 2, does not match size of target_names, 13\n",
      "  .format(len(labels), len(target_names))\n"
     ]
    }
   ],
   "source": [
    "for i, col_index in enumerate(y_test.columns.values):\n",
    "    print(col_index, classification_report(y_test.values[i], y_pred[i], target_names=col_index))"
   ]
  },
  {
   "cell_type": "markdown",
   "metadata": {},
   "source": [
    "### 6. Improve your model\n",
    "Use grid search to find better parameters. "
   ]
  },
  {
   "cell_type": "code",
   "execution_count": 12,
   "metadata": {
    "scrolled": true
   },
   "outputs": [
    {
     "data": {
      "text/plain": [
       "{'memory': None,\n",
       " 'steps': [('vect',\n",
       "   CountVectorizer(analyzer='word', binary=False, decode_error='strict',\n",
       "           dtype=<class 'numpy.int64'>, encoding='utf-8', input='content',\n",
       "           lowercase=True, max_df=1.0, max_features=None, min_df=1,\n",
       "           ngram_range=(1, 1), preprocessor=None, stop_words=None,\n",
       "           strip_accents=None, token_pattern='(?u)\\\\b\\\\w\\\\w+\\\\b',\n",
       "           tokenizer=<function tokenize at 0x7f2ed8e2a488>, vocabulary=None)),\n",
       "  ('tfidf',\n",
       "   TfidfTransformer(norm='l2', smooth_idf=True, sublinear_tf=False, use_idf=True)),\n",
       "  ('clf',\n",
       "   MultiOutputClassifier(estimator=RandomForestClassifier(bootstrap=True, class_weight=None, criterion='gini',\n",
       "               max_depth=None, max_features='auto', max_leaf_nodes=None,\n",
       "               min_impurity_decrease=0.0, min_impurity_split=None,\n",
       "               min_samples_leaf=1, min_samples_split=2,\n",
       "               min_weight_fraction_leaf=0.0, n_estimators=10, n_jobs=1,\n",
       "               oob_score=False, random_state=None, verbose=0,\n",
       "               warm_start=False),\n",
       "              n_jobs=1))],\n",
       " 'vect': CountVectorizer(analyzer='word', binary=False, decode_error='strict',\n",
       "         dtype=<class 'numpy.int64'>, encoding='utf-8', input='content',\n",
       "         lowercase=True, max_df=1.0, max_features=None, min_df=1,\n",
       "         ngram_range=(1, 1), preprocessor=None, stop_words=None,\n",
       "         strip_accents=None, token_pattern='(?u)\\\\b\\\\w\\\\w+\\\\b',\n",
       "         tokenizer=<function tokenize at 0x7f2ed8e2a488>, vocabulary=None),\n",
       " 'tfidf': TfidfTransformer(norm='l2', smooth_idf=True, sublinear_tf=False, use_idf=True),\n",
       " 'clf': MultiOutputClassifier(estimator=RandomForestClassifier(bootstrap=True, class_weight=None, criterion='gini',\n",
       "             max_depth=None, max_features='auto', max_leaf_nodes=None,\n",
       "             min_impurity_decrease=0.0, min_impurity_split=None,\n",
       "             min_samples_leaf=1, min_samples_split=2,\n",
       "             min_weight_fraction_leaf=0.0, n_estimators=10, n_jobs=1,\n",
       "             oob_score=False, random_state=None, verbose=0,\n",
       "             warm_start=False),\n",
       "            n_jobs=1),\n",
       " 'vect__analyzer': 'word',\n",
       " 'vect__binary': False,\n",
       " 'vect__decode_error': 'strict',\n",
       " 'vect__dtype': numpy.int64,\n",
       " 'vect__encoding': 'utf-8',\n",
       " 'vect__input': 'content',\n",
       " 'vect__lowercase': True,\n",
       " 'vect__max_df': 1.0,\n",
       " 'vect__max_features': None,\n",
       " 'vect__min_df': 1,\n",
       " 'vect__ngram_range': (1, 1),\n",
       " 'vect__preprocessor': None,\n",
       " 'vect__stop_words': None,\n",
       " 'vect__strip_accents': None,\n",
       " 'vect__token_pattern': '(?u)\\\\b\\\\w\\\\w+\\\\b',\n",
       " 'vect__tokenizer': <function __main__.tokenize(text)>,\n",
       " 'vect__vocabulary': None,\n",
       " 'tfidf__norm': 'l2',\n",
       " 'tfidf__smooth_idf': True,\n",
       " 'tfidf__sublinear_tf': False,\n",
       " 'tfidf__use_idf': True,\n",
       " 'clf__estimator__bootstrap': True,\n",
       " 'clf__estimator__class_weight': None,\n",
       " 'clf__estimator__criterion': 'gini',\n",
       " 'clf__estimator__max_depth': None,\n",
       " 'clf__estimator__max_features': 'auto',\n",
       " 'clf__estimator__max_leaf_nodes': None,\n",
       " 'clf__estimator__min_impurity_decrease': 0.0,\n",
       " 'clf__estimator__min_impurity_split': None,\n",
       " 'clf__estimator__min_samples_leaf': 1,\n",
       " 'clf__estimator__min_samples_split': 2,\n",
       " 'clf__estimator__min_weight_fraction_leaf': 0.0,\n",
       " 'clf__estimator__n_estimators': 10,\n",
       " 'clf__estimator__n_jobs': 1,\n",
       " 'clf__estimator__oob_score': False,\n",
       " 'clf__estimator__random_state': None,\n",
       " 'clf__estimator__verbose': 0,\n",
       " 'clf__estimator__warm_start': False,\n",
       " 'clf__estimator': RandomForestClassifier(bootstrap=True, class_weight=None, criterion='gini',\n",
       "             max_depth=None, max_features='auto', max_leaf_nodes=None,\n",
       "             min_impurity_decrease=0.0, min_impurity_split=None,\n",
       "             min_samples_leaf=1, min_samples_split=2,\n",
       "             min_weight_fraction_leaf=0.0, n_estimators=10, n_jobs=1,\n",
       "             oob_score=False, random_state=None, verbose=0,\n",
       "             warm_start=False),\n",
       " 'clf__n_jobs': 1}"
      ]
     },
     "execution_count": 12,
     "metadata": {},
     "output_type": "execute_result"
    }
   ],
   "source": [
    "pipeline.get_params()"
   ]
  },
  {
   "cell_type": "code",
   "execution_count": 13,
   "metadata": {},
   "outputs": [
    {
     "data": {
      "text/plain": [
       "GridSearchCV(cv=None, error_score='raise',\n",
       "       estimator=Pipeline(memory=None,\n",
       "     steps=[('vect', CountVectorizer(analyzer='word', binary=False, decode_error='strict',\n",
       "        dtype=<class 'numpy.int64'>, encoding='utf-8', input='content',\n",
       "        lowercase=True, max_df=1.0, max_features=None, min_df=1,\n",
       "        ngram_range=(1, 1), preprocessor=None, stop_words=None,\n",
       "        strip...oob_score=False, random_state=None, verbose=0,\n",
       "            warm_start=False),\n",
       "           n_jobs=1))]),\n",
       "       fit_params=None, iid=True, n_jobs=1,\n",
       "       param_grid={'vect__max_df': (0.5, 0.75, 1.0), 'vect__ngram_range': ((1, 1), (1, 2)), 'vect__max_features': (None, 1000, 5000), 'tfidf__use_idf': (True, False)},\n",
       "       pre_dispatch='2*n_jobs', refit=True, return_train_score='warn',\n",
       "       scoring=None, verbose=0)"
      ]
     },
     "execution_count": 13,
     "metadata": {},
     "output_type": "execute_result"
    }
   ],
   "source": [
    "parameters = {'vect__max_df': (0.5, 0.75, 1.0),\n",
    "              'vect__ngram_range': ((1,1), (1,2)),\n",
    "              'vect__max_features': (None, 1000, 5000),\n",
    "              'tfidf__use_idf': (True, False)}\n",
    "\n",
    "cv = GridSearchCV(pipeline, param_grid=parameters)\n",
    "cv.fit(X_train, y_train)"
   ]
  },
  {
   "cell_type": "code",
   "execution_count": 14,
   "metadata": {},
   "outputs": [
    {
     "data": {
      "text/plain": [
       "{'tfidf__use_idf': True,\n",
       " 'vect__max_df': 0.5,\n",
       " 'vect__max_features': None,\n",
       " 'vect__ngram_range': (1, 2)}"
      ]
     },
     "execution_count": 14,
     "metadata": {},
     "output_type": "execute_result"
    }
   ],
   "source": [
    "cv.best_params_"
   ]
  },
  {
   "cell_type": "markdown",
   "metadata": {},
   "source": [
    "### 7. Test your model\n",
    "Show the accuracy, precision, and recall of the tuned model.  \n",
    "\n",
    "Since this project focuses on code quality, process, and  pipelines, there is no minimum performance metric needed to pass. However, make sure to fine tune your models for accuracy, precision and recall to make your project stand out - especially for your portfolio!"
   ]
  },
  {
   "cell_type": "code",
   "execution_count": null,
   "metadata": {},
   "outputs": [],
   "source": []
  },
  {
   "cell_type": "code",
   "execution_count": 15,
   "metadata": {},
   "outputs": [],
   "source": [
    "y_pred_test = cv.predict(X_test)\n",
    "y_pred_train = cv.predict(X_train)"
   ]
  },
  {
   "cell_type": "code",
   "execution_count": 16,
   "metadata": {},
   "outputs": [
    {
     "name": "stdout",
     "output_type": "stream",
     "text": [
      "related: 0.938368055556\n",
      "request: 0.944444444444\n",
      "offer: 0.941176470588\n",
      "aid_related: 1.0\n",
      "medical_help: 0.95652173913\n",
      "medical_products: 0.957516339869\n",
      "search_and_rescue: 1.0\n",
      "security: 1.0\n",
      "military: 0.976650563607\n",
      "child_alone: 0.985915492958\n",
      "water: 0.985915492958\n",
      "food: 0.866285808909\n",
      "shelter: 0.869963369963\n",
      "clothing: 0.718803418803\n",
      "money: 0.922558922559\n",
      "missing_people: 0.911355311355\n",
      "refugees: 0.87360567869\n",
      "death: 0.905372405372\n",
      "other_aid: 0.95652173913\n",
      "infrastructure_related: 0.855218855219\n",
      "transport: 0.867724867725\n",
      "buildings: 0.958528951487\n",
      "electricity: 0.740740740741\n",
      "tools: 0.95652173913\n",
      "hospitals: 0.680555555556\n",
      "shops: 0.855218855219\n",
      "aid_centers: 0.985915492958\n",
      "other_infrastructure: 0.812800132472\n",
      "weather_related: 0.876811594203\n",
      "floods: 0.789819376026\n",
      "storm: 0.958528951487\n",
      "fire: 0.834554334554\n",
      "earthquake: 0.909090909091\n",
      "cold: 0.833333333333\n",
      "other_weather: 0.680555555556\n",
      "direct_report: 0.666169895678\n",
      "0.88814067762\n"
     ]
    },
    {
     "name": "stderr",
     "output_type": "stream",
     "text": [
      "/opt/conda/lib/python3.6/site-packages/sklearn/metrics/classification.py:1137: UndefinedMetricWarning: F-score is ill-defined and being set to 0.0 in labels with no true samples.\n",
      "  'recall', 'true', average, warn_for)\n",
      "/opt/conda/lib/python3.6/site-packages/sklearn/metrics/classification.py:1135: UndefinedMetricWarning: F-score is ill-defined and being set to 0.0 in labels with no predicted samples.\n",
      "  'precision', 'predicted', average, warn_for)\n"
     ]
    }
   ],
   "source": [
    "y_test_v2 = y_test.values\n",
    "y_pred_v2 = y_pred_train\n",
    "score_list = []\n",
    "for i, col_index in enumerate(y_test.columns.values):\n",
    "    score = f1_score(y_test_v2[i], y_pred_v2[i], average='weighted')\n",
    "    score_list.append(score)\n",
    "    print(str(col_index) + \": \" + str(score))\n",
    "    \n",
    "print(np.asarray(score_list).mean())"
   ]
  },
  {
   "cell_type": "code",
   "execution_count": null,
   "metadata": {},
   "outputs": [],
   "source": []
  },
  {
   "cell_type": "markdown",
   "metadata": {},
   "source": [
    "### 8. Try improving your model further. Here are a few ideas:\n",
    "* try other machine learning algorithms\n",
    "* add other features besides the TF-IDF"
   ]
  },
  {
   "cell_type": "markdown",
   "metadata": {},
   "source": [
    "Due to time constrains in personal life, additional investigation into further improvement, can't me completed at this time.\n",
    "Hopefully this will not impact the overall scoring and passing the project."
   ]
  },
  {
   "cell_type": "markdown",
   "metadata": {},
   "source": [
    "### 9. Export your model as a pickle file"
   ]
  },
  {
   "cell_type": "code",
   "execution_count": 17,
   "metadata": {},
   "outputs": [],
   "source": [
    "import pickle"
   ]
  },
  {
   "cell_type": "code",
   "execution_count": 18,
   "metadata": {},
   "outputs": [
    {
     "ename": "NameError",
     "evalue": "name 'model' is not defined",
     "output_type": "error",
     "traceback": [
      "\u001b[0;31m---------------------------------------------------------------------------\u001b[0m",
      "\u001b[0;31mNameError\u001b[0m                                 Traceback (most recent call last)",
      "\u001b[0;32m<ipython-input-18-3bbcdbf3df87>\u001b[0m in \u001b[0;36m<module>\u001b[0;34m()\u001b[0m\n\u001b[1;32m      1\u001b[0m \u001b[0mfilename\u001b[0m \u001b[0;34m=\u001b[0m \u001b[0;34m'ML_classifier_data.sv'\u001b[0m\u001b[0;34m\u001b[0m\u001b[0m\n\u001b[1;32m      2\u001b[0m \u001b[0mfile_saved\u001b[0m \u001b[0;34m=\u001b[0m \u001b[0mopen\u001b[0m\u001b[0;34m(\u001b[0m\u001b[0mfilename\u001b[0m\u001b[0;34m,\u001b[0m \u001b[0;34m'wb'\u001b[0m\u001b[0;34m)\u001b[0m\u001b[0;34m\u001b[0m\u001b[0m\n\u001b[0;32m----> 3\u001b[0;31m \u001b[0mpickle\u001b[0m\u001b[0;34m.\u001b[0m\u001b[0mdump\u001b[0m\u001b[0;34m(\u001b[0m\u001b[0mmodel\u001b[0m\u001b[0;34m,\u001b[0m \u001b[0mfile_saved\u001b[0m\u001b[0;34m)\u001b[0m\u001b[0;34m\u001b[0m\u001b[0m\n\u001b[0m",
      "\u001b[0;31mNameError\u001b[0m: name 'model' is not defined"
     ]
    }
   ],
   "source": [
    "filename = 'ML_classifier_data.sv'\n",
    "file_saved = open(filename, 'wb')\n",
    "model = pipeline\n",
    "pickle.dump(model, file_saved)"
   ]
  },
  {
   "cell_type": "markdown",
   "metadata": {},
   "source": [
    "### 10. Use this notebook to complete `train.py`\n",
    "Use the template file attached in the Resources folder to write a script that runs the steps above to create a database and export a model based on a new dataset specified by the user."
   ]
  },
  {
   "cell_type": "code",
   "execution_count": null,
   "metadata": {},
   "outputs": [],
   "source": []
  }
 ],
 "metadata": {
  "kernelspec": {
   "display_name": "Python 3",
   "language": "python",
   "name": "python3"
  },
  "language_info": {
   "codemirror_mode": {
    "name": "ipython",
    "version": 3
   },
   "file_extension": ".py",
   "mimetype": "text/x-python",
   "name": "python",
   "nbconvert_exporter": "python",
   "pygments_lexer": "ipython3",
   "version": "3.7.7"
  }
 },
 "nbformat": 4,
 "nbformat_minor": 2
}
